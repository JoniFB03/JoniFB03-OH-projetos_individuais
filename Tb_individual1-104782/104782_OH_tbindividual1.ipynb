{
 "cells": [
  {
   "cell_type": "markdown",
   "id": "97776a9c",
   "metadata": {},
   "source": [
    "# Trabalho Individual 1- Optimização Heurística\n",
    "\n",
    "# Trabalho realizado por:\n",
    "- # \\textit{ João Francisco Botas, nº104782, CDB1}\n",
    "\n",
    "\n",
    "\n",
    "\n"
   ]
  },
  {
   "cell_type": "markdown",
   "id": "c847e1c9",
   "metadata": {},
   "source": [
    "### Resolução do Problema recorrendo a programação linear por metas"
   ]
  },
  {
   "cell_type": "markdown",
   "id": "58b03591",
   "metadata": {},
   "source": [
    "### Importação das bibliotecas"
   ]
  },
  {
   "cell_type": "code",
   "execution_count": 1,
   "id": "f570a382",
   "metadata": {
    "ExecuteTime": {
     "end_time": "2023-05-08T19:57:10.942698Z",
     "start_time": "2023-05-08T19:57:05.742168Z"
    }
   },
   "outputs": [],
   "source": [
    "import pandas as pd\n",
    "from pulp import LpMaximize, LpMinimize, LpProblem, LpStatus, lpSum, LpVariable\n",
    "from pulp import GLPK"
   ]
  },
  {
   "cell_type": "markdown",
   "id": "3f5d5a7d",
   "metadata": {},
   "source": [
    "### Formulação do problema - alínea a)"
   ]
  },
  {
   "cell_type": "markdown",
   "id": "39ba21eb",
   "metadata": {},
   "source": [
    "Encontra-se apresentada no relatório."
   ]
  },
  {
   "cell_type": "markdown",
   "id": "a2919b2a",
   "metadata": {},
   "source": [
    "### 1º problema com os pesos já estabelecidos - alínea b)"
   ]
  },
  {
   "cell_type": "code",
   "execution_count": 2,
   "id": "1a1ccab6",
   "metadata": {
    "ExecuteTime": {
     "end_time": "2023-05-08T19:57:10.974627Z",
     "start_time": "2023-05-08T19:57:10.945626Z"
    }
   },
   "outputs": [
    {
     "data": {
      "text/plain": [
       "Programacao_por_metas:\n",
       "MINIMIZE\n",
       "0.013333333333333334*dM2 + 0.09090909090909091*dM3 + 0.04*dm1 + 0.03333333333333333*dm2 + 0.0\n",
       "SUBJECT TO\n",
       "toneladas_d1: x1 <= 6\n",
       "\n",
       "toneladas_d2: x2 >= 2\n",
       "\n",
       "toneladas_d3: x3 >= 1\n",
       "\n",
       "alcancar_lucro: dm1 + 12 x1 + 9 x2 + 5 x3 >= 125\n",
       "\n",
       "mao_obra: - dM2 + dm2 + 5 x1 + 2 x2 + 4 x3 = 60\n",
       "\n",
       "travar_investimento: - dM3 + 5 x1 + 5 x2 + 8 x3 <= 55\n",
       "\n",
       "VARIABLES\n",
       "dM2 Continuous\n",
       "dM3 Continuous\n",
       "dm1 Continuous\n",
       "dm2 Continuous\n",
       "x1 Continuous\n",
       "x2 Continuous\n",
       "x3 Continuous"
      ]
     },
     "execution_count": 2,
     "metadata": {},
     "output_type": "execute_result"
    }
   ],
   "source": [
    "model = LpProblem(name=\"Programacao_por_metas\", sense=LpMinimize)\n",
    "#\n",
    "vector=[125,60,55]\n",
    "peso=[5,10/5,4/5,5]\n",
    "# Variáveis de decisão\n",
    "x = {i: LpVariable(name=f\"x{i}\", lowBound=0) for i in range(1, 4)}\n",
    "dm = {i: LpVariable(name=f\"dm{i}\", lowBound=0) for i in range(1, 3)}\n",
    "dM = {i: LpVariable(name=f\"dM{i}\", lowBound=0) for i in range(2, 4)}\n",
    "#\n",
    "# Restrições\n",
    "model += (x[1] <= 6, \"toneladas_d1\")\n",
    "model += (x[2] >= 2, \"toneladas_d2\")\n",
    "model += (x[3] >= 1, \"toneladas_d3\")\n",
    "model += (12 * x[1] + 9 * x[2] + 5 * x[3] + dm[1] >= 125, \"alcancar_lucro\")\n",
    "model += (5 * x[1] + 2 * x[2] + 4 * x[3] + dm[2] - dM[2] == 60, \"mao_obra\")\n",
    "model += (5 * x[1] + 5 * x[2] + 8 * x[3] - dM[3] <= 55, \"travar_investimento\")\n",
    "#\n",
    "# Função objetivo\n",
    "obj_func = peso[0]/vector[0] * dm[1] + peso[1]/vector[1] * dm[2] + peso[2]/vector[1] * dM[2] + peso[3]/vector[2] * dM[3]\n",
    "model += obj_func\n",
    "# \n",
    "model"
   ]
  },
  {
   "cell_type": "code",
   "execution_count": 3,
   "id": "01040e05",
   "metadata": {
    "ExecuteTime": {
     "end_time": "2023-05-08T19:57:11.117104Z",
     "start_time": "2023-05-08T19:57:10.976704Z"
    }
   },
   "outputs": [
    {
     "name": "stdout",
     "output_type": "stream",
     "text": [
      "objective: 1.3359999999999999\n",
      "x1: 6.0\n",
      "x2: 3.4\n",
      "x3: 1.0\n",
      "dm1: 17.4\n",
      "dm2: 19.2\n",
      "dM2: 0.0\n",
      "dM3: 0.0\n",
      "toneladas_d1: 0.0\n",
      "toneladas_d2: 1.4\n",
      "toneladas_d3: 0.0\n",
      "alcancar_lucro: -3.552713678800501e-15\n",
      "mao_obra: 0.0\n",
      "travar_investimento: 0.0\n"
     ]
    }
   ],
   "source": [
    "status = model.solve(solver=GLPK(msg=True))\n",
    "#\n",
    "# Valor óptimo de problema\n",
    "model.objective.value()\n",
    "print(f\"objective: {model.objective.value()}\")\n",
    "#\n",
    "# Solução óptima\n",
    "# Valores óptimos das variáveis de decisão e desvios\n",
    "#\n",
    "for var in x.values():\n",
    "    print(f\"{var.name}: {var.value()}\")\n",
    "for var in dm.values():\n",
    "    print(f\"{var.name}: {var.value()}\")\n",
    "for var in dM.values():\n",
    "    print(f\"{var.name}: {var.value()}\")\n",
    "#\n",
    "# Valores das restrições\n",
    "#\n",
    "for name, constraint in model.constraints.items():\n",
    "    print (f\"{name}: {constraint.value()}\") "
   ]
  },
  {
   "cell_type": "markdown",
   "id": "c31b4c87",
   "metadata": {},
   "source": [
    "- Valor objetivo baixo\n",
    "- Produzidas 6, 3.4 e 1 toneladas dos doces $D_1$,$D_2$ e $D_3$, respetivamente\n",
    "- Lucro abaixo com desvio de 17.4\n",
    "- Nº de empregados com menos 19.2 dos 60 atuais"
   ]
  },
  {
   "cell_type": "markdown",
   "id": "2214ea78",
   "metadata": {
    "ExecuteTime": {
     "end_time": "2023-04-28T18:00:46.486326Z",
     "start_time": "2023-04-28T18:00:46.470433Z"
    }
   },
   "source": [
    "## Resoluções alternativas - alínea c)"
   ]
  },
  {
   "cell_type": "markdown",
   "id": "14857c8e",
   "metadata": {},
   "source": [
    "### Utilização de Pesos alternativos"
   ]
  },
  {
   "cell_type": "markdown",
   "id": "aed3f3f3",
   "metadata": {},
   "source": [
    "#### Solução Alternativa 1"
   ]
  },
  {
   "cell_type": "code",
   "execution_count": 4,
   "id": "60c1715d",
   "metadata": {
    "ExecuteTime": {
     "end_time": "2023-05-08T19:57:11.148270Z",
     "start_time": "2023-05-08T19:57:11.121006Z"
    }
   },
   "outputs": [
    {
     "data": {
      "text/plain": [
       "Sol_alternativa_2:\n",
       "MINIMIZE\n",
       "0.016666666666666666*dM2 + 0.03636363636363636*dM3 + 0.024*dm1 + 0.016666666666666666*dm2 + 0.0\n",
       "SUBJECT TO\n",
       "toneladas_d1: x1 <= 6\n",
       "\n",
       "toneladas_d2: x2 >= 2\n",
       "\n",
       "toneladas_d3: x3 >= 1\n",
       "\n",
       "alcancar_lucro: dm1 + 12 x1 + 9 x2 + 5 x3 >= 125\n",
       "\n",
       "mao_obra: - dM2 + dm2 + 5 x1 + 2 x2 + 4 x3 = 60\n",
       "\n",
       "travar_investimento: - dM3 + 5 x1 + 5 x2 + 8 x3 <= 55\n",
       "\n",
       "VARIABLES\n",
       "dM2 Continuous\n",
       "dM3 Continuous\n",
       "dm1 Continuous\n",
       "dm2 Continuous\n",
       "x1 Continuous\n",
       "x2 Continuous\n",
       "x3 Continuous"
      ]
     },
     "execution_count": 4,
     "metadata": {},
     "output_type": "execute_result"
    }
   ],
   "source": [
    "model = LpProblem(name=\"Sol_alternativa_2\", sense=LpMinimize)\n",
    "#\n",
    "vector=[125,60,55]\n",
    "peso=[3,1,1,2]\n",
    "#\n",
    "# Variáveis de decisão\n",
    "x = {i: LpVariable(name=f\"x{i}\", lowBound=0) for i in range(1, 4)}\n",
    "dm = {i: LpVariable(name=f\"dm{i}\", lowBound=0) for i in range(1, 3)}\n",
    "dM = {i: LpVariable(name=f\"dM{i}\", lowBound=0) for i in range(2, 4)}\n",
    "#\n",
    "# Restrições\n",
    "model += (x[1] <= 6, \"toneladas_d1\")\n",
    "model += (x[2] >= 2, \"toneladas_d2\")\n",
    "model += (x[3] >= 1, \"toneladas_d3\")\n",
    "model += (12 * x[1] + 9 * x[2] + 5 * x[3] + dm[1] >= 125, \"alcancar_lucro\")\n",
    "model += (5 * x[1] + 2 * x[2] + 4 * x[3] + dm[2] - dM[2] == 60, \"mao_obra\")\n",
    "model += (5 * x[1] + 5 * x[2] + 8 * x[3] - dM[3] <= 55, \"travar_investimento\")\n",
    "#\n",
    "# Função objetivo\n",
    "obj_func = peso[0]/vector[0] * dm[1] + peso[1]/vector[1] * dm[2] + peso[2]/vector[1] * dM[2] + peso[3]/vector[2] * dM[3]\n",
    "model += obj_func\n",
    "# \n",
    "model"
   ]
  },
  {
   "cell_type": "code",
   "execution_count": 5,
   "id": "6c1c281e",
   "metadata": {
    "ExecuteTime": {
     "end_time": "2023-05-08T19:57:11.210881Z",
     "start_time": "2023-05-08T19:57:11.151209Z"
    }
   },
   "outputs": [
    {
     "name": "stdout",
     "output_type": "stream",
     "text": [
      "objective: 0.6070702727272728\n",
      "x1: 6.0\n",
      "x2: 5.33333\n",
      "x3: 1.0\n",
      "dm1: 0.0\n",
      "dm2: 15.3333\n",
      "dM2: 0.0\n",
      "dM3: 9.66667\n",
      "toneladas_d1: 0.0\n",
      "toneladas_d2: 3.33333\n",
      "toneladas_d3: 0.0\n",
      "alcancar_lucro: -2.9999999995311555e-05\n",
      "mao_obra: -4.000000000026205e-05\n",
      "travar_investimento: -1.9999999999242846e-05\n"
     ]
    }
   ],
   "source": [
    "status = model.solve(solver=GLPK(msg=True))\n",
    "#\n",
    "# Valor óptimo de problema\n",
    "model.objective.value()\n",
    "print(f\"objective: {model.objective.value()}\")\n",
    "#\n",
    "# Solução óptima\n",
    "# Valores óptimos das variáveis de decisão e desvios\n",
    "#\n",
    "for var in x.values():\n",
    "    print(f\"{var.name}: {var.value()}\")\n",
    "for var in dm.values():\n",
    "    print(f\"{var.name}: {var.value()}\")\n",
    "for var in dM.values():\n",
    "    print(f\"{var.name}: {var.value()}\")\n",
    "#\n",
    "# Valores das restrições\n",
    "#\n",
    "for name, constraint in model.constraints.items():\n",
    "    print (f\"{name}: {constraint.value()}\") "
   ]
  },
  {
   "cell_type": "markdown",
   "id": "d417b902",
   "metadata": {},
   "source": [
    "#### Extra Solução Alternativa"
   ]
  },
  {
   "cell_type": "markdown",
   "id": "db0e284c",
   "metadata": {},
   "source": [
    "Serão tomados valores inversos aos pesos no que toca à mão de obra e ao investimento, dando mais prioridade à mão de obra com peso 2. O peso do lucro continuará igual a 3, pois é o que penso ser mais relevante."
   ]
  },
  {
   "cell_type": "code",
   "execution_count": 6,
   "id": "e3399064",
   "metadata": {
    "ExecuteTime": {
     "end_time": "2023-05-08T19:57:11.242003Z",
     "start_time": "2023-05-08T19:57:11.215953Z"
    }
   },
   "outputs": [
    {
     "data": {
      "text/plain": [
       "Sol_alternativa_2:\n",
       "MINIMIZE\n",
       "0.03333333333333333*dM2 + 0.01818181818181818*dM3 + 0.024*dm1 + 0.03333333333333333*dm2 + 0.0\n",
       "SUBJECT TO\n",
       "toneladas_d1: x1 <= 6\n",
       "\n",
       "toneladas_d2: x2 >= 2\n",
       "\n",
       "toneladas_d3: x3 >= 1\n",
       "\n",
       "alcancar_lucro: dm1 + 12 x1 + 9 x2 + 5 x3 >= 125\n",
       "\n",
       "mao_obra: - dM2 + dm2 + 5 x1 + 2 x2 + 4 x3 = 60\n",
       "\n",
       "travar_investimento: - dM3 + 5 x1 + 5 x2 + 8 x3 <= 55\n",
       "\n",
       "VARIABLES\n",
       "dM2 Continuous\n",
       "dM3 Continuous\n",
       "dm1 Continuous\n",
       "dm2 Continuous\n",
       "x1 Continuous\n",
       "x2 Continuous\n",
       "x3 Continuous"
      ]
     },
     "execution_count": 6,
     "metadata": {},
     "output_type": "execute_result"
    }
   ],
   "source": [
    "model = LpProblem(name=\"Sol_alternativa_2\", sense=LpMinimize)\n",
    "#\n",
    "vector=[125,60,55]\n",
    "peso=[3,2,2,1]\n",
    "#\n",
    "# Variáveis de decisão\n",
    "x = {i: LpVariable(name=f\"x{i}\", lowBound=0) for i in range(1, 4)}\n",
    "dm = {i: LpVariable(name=f\"dm{i}\", lowBound=0) for i in range(1, 3)}\n",
    "dM = {i: LpVariable(name=f\"dM{i}\", lowBound=0) for i in range(2, 4)}\n",
    "#\n",
    "# Restrições\n",
    "model += (x[1] <= 6, \"toneladas_d1\")\n",
    "model += (x[2] >= 2, \"toneladas_d2\")\n",
    "model += (x[3] >= 1, \"toneladas_d3\")\n",
    "model += (12 * x[1] + 9 * x[2] + 5 * x[3] + dm[1] >= 125, \"alcancar_lucro\")\n",
    "model += (5 * x[1] + 2 * x[2] + 4 * x[3] + dm[2] - dM[2] == 60, \"mao_obra\")\n",
    "model += (5 * x[1] + 5 * x[2] + 8 * x[3] - dM[3] <= 55, \"travar_investimento\")\n",
    "#\n",
    "# Função objetivo\n",
    "obj_func = peso[0]/vector[0] * dm[1] + peso[1]/vector[1] * dm[2] + peso[2]/vector[1] * dM[2] + peso[3]/vector[2] * dM[3]\n",
    "model += obj_func\n",
    "# \n",
    "model"
   ]
  },
  {
   "cell_type": "code",
   "execution_count": 7,
   "id": "9c190221",
   "metadata": {
    "ExecuteTime": {
     "end_time": "2023-05-08T19:57:11.320111Z",
     "start_time": "2023-05-08T19:57:11.243958Z"
    }
   },
   "outputs": [
    {
     "name": "stdout",
     "output_type": "stream",
     "text": [
      "objective: 0.67972\n",
      "x1: 6.0\n",
      "x2: 2.38462\n",
      "x3: 6.30769\n",
      "dm1: 0.0\n",
      "dm2: 0.0\n",
      "dM2: 0.0\n",
      "dM3: 37.3846\n",
      "toneladas_d1: 0.0\n",
      "toneladas_d2: 0.38461999999999996\n",
      "toneladas_d3: 5.30769\n",
      "alcancar_lucro: 2.999999999886427e-05\n",
      "mao_obra: 0.0\n",
      "travar_investimento: 1.9999999999242846e-05\n"
     ]
    }
   ],
   "source": [
    "status = model.solve(solver=GLPK(msg=True))\n",
    "#\n",
    "# Valor óptimo de problema\n",
    "model.objective.value()\n",
    "print(f\"objective: {model.objective.value()}\")\n",
    "#\n",
    "# Solução óptima\n",
    "# Valores óptimos das variáveis de decisão e desvios\n",
    "#\n",
    "for var in x.values():\n",
    "    print(f\"{var.name}: {var.value()}\")\n",
    "for var in dm.values():\n",
    "    print(f\"{var.name}: {var.value()}\")\n",
    "for var in dM.values():\n",
    "    print(f\"{var.name}: {var.value()}\")\n",
    "#\n",
    "# Valores das restrições\n",
    "#\n",
    "for name, constraint in model.constraints.items():\n",
    "    print (f\"{name}: {constraint.value()}\") "
   ]
  },
  {
   "cell_type": "markdown",
   "id": "c1e833bd",
   "metadata": {},
   "source": [
    "### Utilizando MiniMax"
   ]
  },
  {
   "cell_type": "code",
   "execution_count": 8,
   "id": "f61db278",
   "metadata": {
    "ExecuteTime": {
     "end_time": "2023-05-08T19:57:11.350529Z",
     "start_time": "2023-05-08T19:57:11.322088Z"
    }
   },
   "outputs": [
    {
     "data": {
      "text/plain": [
       "Sol_alternativa_2:\n",
       "MINIMIZE\n",
       "1*Q + 0\n",
       "SUBJECT TO\n",
       "toneladas_d1: x1 <= 6\n",
       "\n",
       "toneladas_d2: x2 >= 2\n",
       "\n",
       "toneladas_d3: x3 >= 1\n",
       "\n",
       "alcancar_lucro: dm1 + 12 x1 + 9 x2 + 5 x3 >= 125\n",
       "\n",
       "mao_obra: - dM2 + dm2 + 5 x1 + 2 x2 + 4 x3 = 60\n",
       "\n",
       "travar_investimento: - dM3 + 5 x1 + 5 x2 + 8 x3 <= 55\n",
       "\n",
       "desvio_inf_meta_1: - Q + 0.04 dm1 <= 0\n",
       "\n",
       "desvio_inf_meta_2: - Q + 0.0333333333333 dm2 <= 0\n",
       "\n",
       "desvio_sup_meta_2: - Q + 0.0133333333333 dM2 <= 0\n",
       "\n",
       "desvio_sup_meta_3: - Q + 0.0909090909091 dM3 <= 0\n",
       "\n",
       "VARIABLES\n",
       "Q Continuous\n",
       "dM2 Continuous\n",
       "dM3 Continuous\n",
       "dm1 Continuous\n",
       "dm2 Continuous\n",
       "x1 Continuous\n",
       "x2 Continuous\n",
       "x3 Continuous"
      ]
     },
     "execution_count": 8,
     "metadata": {},
     "output_type": "execute_result"
    }
   ],
   "source": [
    "model2 = LpProblem(name=\"Sol_alternativa_2\", sense=LpMinimize)\n",
    "#\n",
    "# Variáveis de decisão\n",
    "x = {i: LpVariable(name=f\"x{i}\", lowBound=0) for i in range(1, 4)}\n",
    "dm = {i: LpVariable(name=f\"dm{i}\", lowBound=0) for i in range(1, 3)}\n",
    "dM = {i: LpVariable(name=f\"dM{i}\", lowBound=0) for i in range(2, 4)}\n",
    "Q= LpVariable(\"Q\", lowBound=0)\n",
    "#\n",
    "vector=[125,60,55]\n",
    "peso=[5,10/5,4/5,5]\n",
    "# Restrições\n",
    "model2 += (x[1] <= 6, \"toneladas_d1\")\n",
    "model2 += (x[2] >= 2, \"toneladas_d2\")\n",
    "model2 += (x[3] >= 1, \"toneladas_d3\")\n",
    "model2 += (12 * x[1] + 9 * x[2] + 5 * x[3] + dm[1] >= 125, \"alcancar_lucro\")\n",
    "model2 += (5 * x[1] + 2 * x[2] + 4 * x[3] + dm[2] - dM[2] == 60, \"mao_obra\")\n",
    "model2 += (5 * x[1] + 5 * x[2] + 8 * x[3] - dM[3] <= 55, \"travar_investimento\")\n",
    "model2 += (peso[0]/vector[0] * dm[1] - Q <= 0, \"desvio_inf_meta_1\" )\n",
    "model2 += (peso[1]/vector[1] * dm[2] - Q <= 0, \"desvio_inf_meta_2\" )\n",
    "model2 += (peso[2]/vector[1] * dM[2] - Q <= 0, \"desvio_sup_meta_2\" )\n",
    "model2 += (peso[3]/vector[2] * dM[3] - Q <= 0, \"desvio_sup_meta_3\" )\n",
    "#\n",
    "# Função objetivo em Q\n",
    "obj_func = Q\n",
    "model2 += obj_func\n",
    "#\n",
    "model2"
   ]
  },
  {
   "cell_type": "code",
   "execution_count": 9,
   "id": "dedcbbdf",
   "metadata": {
    "ExecuteTime": {
     "end_time": "2023-05-08T19:57:11.397224Z",
     "start_time": "2023-05-08T19:57:11.352527Z"
    }
   },
   "outputs": [
    {
     "name": "stdout",
     "output_type": "stream",
     "text": [
      "objective: 0.541203\n",
      "x1: 6.0\n",
      "x2: 3.42539\n",
      "x3: 1.72829\n",
      "dm1: 13.5301\n",
      "dm2: 16.2361\n",
      "dM2: 0.0\n",
      "dM3: 5.95323\n",
      "toneladas_d1: 0.0\n",
      "toneladas_d2: 1.4253900000000002\n",
      "toneladas_d3: 0.7282900000000001\n",
      "alcancar_lucro: 6.000000000128125e-05\n",
      "mao_obra: 4.0000000002038405e-05\n",
      "travar_investimento: 4.0000000002038405e-05\n",
      "desvio_inf_meta_1: 1.0000000000287557e-06\n",
      "desvio_inf_meta_2: 3.33333333379926e-07\n",
      "desvio_sup_meta_2: -0.541203\n",
      "desvio_sup_meta_3: -2.72727272765394e-07\n"
     ]
    }
   ],
   "source": [
    "status = model2.solve(solver=GLPK(msg=True))\n",
    "#\n",
    "# Valor óptimo de problema\n",
    "model2.objective.value()\n",
    "print(f\"objective: {model2.objective.value()}\")\n",
    "#\n",
    "# Solução óptima\n",
    "# Valores óptimos das variáveis de decisão e desvios\n",
    "#\n",
    "for var in x.values():\n",
    "    print(f\"{var.name}: {var.value()}\")\n",
    "for var in dm.values():\n",
    "    print(f\"{var.name}: {var.value()}\")\n",
    "for var in dM.values():\n",
    "    print(f\"{var.name}: {var.value()}\")\n",
    "#\n",
    "# Valores das restrições\n",
    "#\n",
    "for name, constraint in model2.constraints.items():\n",
    "    print (f\"{name}: {constraint.value()}\") "
   ]
  },
  {
   "cell_type": "markdown",
   "id": "ac0e4e2c",
   "metadata": {},
   "source": [
    "## Programação por Metas Preemptiva - alínea e)"
   ]
  },
  {
   "cell_type": "markdown",
   "id": "019566c5",
   "metadata": {},
   "source": [
    "### 1º nível de prioridade"
   ]
  },
  {
   "cell_type": "markdown",
   "id": "dc7538e5",
   "metadata": {},
   "source": [
    "Nesta solução foram utilizados os pesos do enunciado e todos a 1, mas deixei comentado numa mesma célula porque dão valores semelhantes."
   ]
  },
  {
   "cell_type": "code",
   "execution_count": 10,
   "id": "65f22cf4",
   "metadata": {
    "ExecuteTime": {
     "end_time": "2023-05-08T19:57:11.428540Z",
     "start_time": "2023-05-08T19:57:11.403222Z"
    }
   },
   "outputs": [
    {
     "data": {
      "text/plain": [
       "Programacao_por_metas_preemptiva:\n",
       "MINIMIZE\n",
       "0.013333333333333334*dM2 + 0.09090909090909091*dM3 + 0.03333333333333333*dm2 + 0.0\n",
       "SUBJECT TO\n",
       "toneladas_d1: x1 <= 6\n",
       "\n",
       "toneladas_d2: x2 >= 2\n",
       "\n",
       "toneladas_d3: x3 >= 1\n",
       "\n",
       "mao_obra: - dM2 + dm2 + 5 x1 + 2 x2 + 4 x3 = 60\n",
       "\n",
       "travar_investimento: - dM3 + 5 x1 + 5 x2 + 8 x3 <= 55\n",
       "\n",
       "VARIABLES\n",
       "dM2 Continuous\n",
       "dM3 Continuous\n",
       "dm2 Continuous\n",
       "x1 Continuous\n",
       "x2 Continuous\n",
       "x3 Continuous"
      ]
     },
     "execution_count": 10,
     "metadata": {},
     "output_type": "execute_result"
    }
   ],
   "source": [
    "model_premp = LpProblem(name=\"Programacao_por_metas_preemptiva\", sense=LpMinimize)\n",
    "\n",
    "# pesos iniciais\n",
    "vector=[125,60,55]\n",
    "peso=[5,10/5,4/5,5]\n",
    "# peso=[1,1,1,1]\n",
    "\n",
    "# Variáveis de decisão\n",
    "x = {i: LpVariable(name=f\"x{i}\", lowBound=0) for i in range(1, 4)}\n",
    "dm = {i: LpVariable(name=f\"dm{i}\", lowBound=0) for i in range(2, 3)}\n",
    "dM = {i: LpVariable(name=f\"dM{i}\", lowBound=0) for i in range(2, 4)}\n",
    "#\n",
    "# Restrições\n",
    "model_premp += (x[1] <= 6, \"toneladas_d1\")\n",
    "model_premp += (x[2] >= 2, \"toneladas_d2\")\n",
    "model_premp += (x[3] >= 1, \"toneladas_d3\")\n",
    "# model_premp += (12 * x[1] + 9 * x[2] + 5 * x[3] >= 125, \"alcancar_lucro\")\n",
    "model_premp += (5 * x[1] + 2 * x[2] + 4 * x[3] + dm[2] - dM[2] == 60, \"mao_obra\")\n",
    "model_premp += (5 * x[1] + 5 * x[2] + 8 * x[3] - dM[3] <= 55, \"travar_investimento\")\n",
    "#\n",
    "# Função objetivo\n",
    "obj_func = peso[1]/vector[1] * dm[2] + peso[2]/vector[1] * dM[2] + peso[3]/vector[2] * dM[3]\n",
    "model_premp += obj_func\n",
    "#\n",
    "model_premp"
   ]
  },
  {
   "cell_type": "code",
   "execution_count": 11,
   "id": "533ca741",
   "metadata": {
    "ExecuteTime": {
     "end_time": "2023-05-08T19:57:11.476540Z",
     "start_time": "2023-05-08T19:57:11.431541Z"
    }
   },
   "outputs": [
    {
     "name": "stdout",
     "output_type": "stream",
     "text": [
      "objective: 0.6166666666666667\n",
      "x1: 6.0\n",
      "x2: 2.0\n",
      "x3: 1.875\n",
      "dm2: 18.5\n",
      "dM2: 0.0\n",
      "dM3: 0.0\n",
      "toneladas_d1: 0.0\n",
      "toneladas_d2: 0.0\n",
      "toneladas_d3: 0.875\n",
      "mao_obra: 0.0\n",
      "travar_investimento: 0.0\n"
     ]
    }
   ],
   "source": [
    "status = model_premp.solve(solver=GLPK(msg=True))\n",
    "#\n",
    "# Valor óptimo de problema\n",
    "model_premp.objective.value()\n",
    "print(f\"objective: {model_premp.objective.value()}\")\n",
    "#\n",
    "# Solução óptima\n",
    "# Valores óptimos das variáveis de decisão e desvios\n",
    "#\n",
    "for var in x.values():\n",
    "    print(f\"{var.name}: {var.value()}\")\n",
    "for var in dm.values():\n",
    "    print(f\"{var.name}: {var.value()}\")\n",
    "for var in dM.values():\n",
    "    print(f\"{var.name}: {var.value()}\")\n",
    "#\n",
    "# Valores das restrições\n",
    "#\n",
    "for name, constraint in model_premp.constraints.items():\n",
    "    print (f\"{name}: {constraint.value()}\") "
   ]
  },
  {
   "cell_type": "markdown",
   "id": "0ee49a35",
   "metadata": {},
   "source": [
    "#### Atingir o nível de prioridade 1"
   ]
  },
  {
   "cell_type": "markdown",
   "id": "01b40760",
   "metadata": {},
   "source": [
    "Como $d_2^-$=18.5 vemos que o primeiro nível de prioridade não foi atingido e, por isso, só haverá mão de obra para 60-18.5=41,5 -> 41 empregados. Para colmatar isso, iremos suavizar a meta, que é bastante otimista, para esse valor novo de forma a cumprir o primeiro nível de prioridade. "
   ]
  },
  {
   "cell_type": "code",
   "execution_count": 12,
   "id": "183d9728",
   "metadata": {
    "ExecuteTime": {
     "end_time": "2023-05-08T19:57:11.508542Z",
     "start_time": "2023-05-08T19:57:11.478541Z"
    }
   },
   "outputs": [
    {
     "data": {
      "text/plain": [
       "Programacao_por_metas_preemptiva:\n",
       "MINIMIZE\n",
       "0.013333333333333334*dM2 + 0.09090909090909091*dM3 + 0.03333333333333333*dm2 + 0.0\n",
       "SUBJECT TO\n",
       "toneladas_d1: x1 <= 6\n",
       "\n",
       "toneladas_d2: x2 >= 2\n",
       "\n",
       "toneladas_d3: x3 >= 1\n",
       "\n",
       "mao_obra: - dM2 + dm2 + 5 x1 + 2 x2 + 4 x3 = 41\n",
       "\n",
       "travar_investimento: - dM3 + 5 x1 + 5 x2 + 8 x3 <= 55\n",
       "\n",
       "VARIABLES\n",
       "dM2 Continuous\n",
       "dM3 Continuous\n",
       "dm2 Continuous\n",
       "x1 Continuous\n",
       "x2 Continuous\n",
       "x3 Continuous"
      ]
     },
     "execution_count": 12,
     "metadata": {},
     "output_type": "execute_result"
    }
   ],
   "source": [
    "model_premp = LpProblem(name=\"Programacao_por_metas_preemptiva\", sense=LpMinimize)\n",
    "\n",
    "# pesos iniciais\n",
    "vector=[125,60,55]\n",
    "peso=[5,10/5,4/5,5]\n",
    "# peso=[1,1,1,1]\n",
    "\n",
    "# Variáveis de decisão\n",
    "x = {i: LpVariable(name=f\"x{i}\", lowBound=0) for i in range(1, 4)}\n",
    "dm = {i: LpVariable(name=f\"dm{i}\", lowBound=0) for i in range(2, 3)}\n",
    "dM = {i: LpVariable(name=f\"dM{i}\", lowBound=0) for i in range(2, 4)}\n",
    "#\n",
    "# Restrições\n",
    "model_premp += (x[1] <= 6, \"toneladas_d1\")\n",
    "model_premp += (x[2] >= 2, \"toneladas_d2\")\n",
    "model_premp += (x[3] >= 1, \"toneladas_d3\")\n",
    "#\n",
    "# Sem a primeira meta\n",
    "# model_premp += (12 * x[1] + 9 * x[2] + 5 * x[3] >= 125, \"alcancar_lucro\")\n",
    "#\n",
    "model_premp += (5 * x[1] + 2 * x[2] + 4 * x[3] + dm[2] - dM[2] == 41, \"mao_obra\")\n",
    "model_premp += (5 * x[1] + 5 * x[2] + 8 * x[3] - dM[3] <= 55, \"travar_investimento\")\n",
    "#\n",
    "# Função objetivo\n",
    "obj_func = peso[1]/vector[1] * dm[2] + peso[2]/vector[1] * dM[2] + peso[3]/vector[2] * dM[3]\n",
    "model_premp += obj_func\n",
    "#\n",
    "model_premp"
   ]
  },
  {
   "cell_type": "code",
   "execution_count": 13,
   "id": "1cc4227a",
   "metadata": {
    "ExecuteTime": {
     "end_time": "2023-05-08T19:57:11.554962Z",
     "start_time": "2023-05-08T19:57:11.511539Z"
    }
   },
   "outputs": [
    {
     "name": "stdout",
     "output_type": "stream",
     "text": [
      "objective: 0.0\n",
      "x1: 6.0\n",
      "x2: 2.0\n",
      "x3: 1.75\n",
      "dm2: 0.0\n",
      "dM2: 0.0\n",
      "dM3: 0.0\n",
      "toneladas_d1: 0.0\n",
      "toneladas_d2: 0.0\n",
      "toneladas_d3: 0.75\n",
      "mao_obra: 0.0\n",
      "travar_investimento: -1.0\n"
     ]
    }
   ],
   "source": [
    "status = model_premp.solve(solver=GLPK(msg=True))\n",
    "#\n",
    "# Valor óptimo de problema\n",
    "model_premp.objective.value()\n",
    "print(f\"objective: {model_premp.objective.value()}\")\n",
    "#\n",
    "# Solução óptima\n",
    "# Valores óptimos das variáveis de decisão e desvios\n",
    "#\n",
    "for var in x.values():\n",
    "    print(f\"{var.name}: {var.value()}\")\n",
    "for var in dm.values():\n",
    "    print(f\"{var.name}: {var.value()}\")\n",
    "for var in dM.values():\n",
    "    print(f\"{var.name}: {var.value()}\")\n",
    "#\n",
    "# Valores das restrições\n",
    "#\n",
    "for name, constraint in model_premp.constraints.items():\n",
    "    print (f\"{name}: {constraint.value()}\") "
   ]
  },
  {
   "cell_type": "markdown",
   "id": "de6853f0",
   "metadata": {},
   "source": [
    "### 1º nível de prioridade (com pesos diferentes)"
   ]
  },
  {
   "cell_type": "code",
   "execution_count": 14,
   "id": "05141d29",
   "metadata": {
    "ExecuteTime": {
     "end_time": "2023-05-08T19:57:11.585562Z",
     "start_time": "2023-05-08T19:57:11.557959Z"
    }
   },
   "outputs": [
    {
     "data": {
      "text/plain": [
       "Programacao_por_metas_preemptiva:\n",
       "MINIMIZE\n",
       "0.16666666666666666*dM2 + 0.07272727272727272*dM3 + 0.16666666666666666*dm2 + 0.0\n",
       "SUBJECT TO\n",
       "toneladas_d1: x1 <= 6\n",
       "\n",
       "toneladas_d2: x2 >= 2\n",
       "\n",
       "toneladas_d3: x3 >= 1\n",
       "\n",
       "mao_obra: - dM2 + dm2 + 5 x1 + 2 x2 + 4 x3 = 60\n",
       "\n",
       "travar_investimento: - dM3 + 5 x1 + 5 x2 + 8 x3 <= 55\n",
       "\n",
       "VARIABLES\n",
       "dM2 Continuous\n",
       "dM3 Continuous\n",
       "dm2 Continuous\n",
       "x1 Continuous\n",
       "x2 Continuous\n",
       "x3 Continuous"
      ]
     },
     "execution_count": 14,
     "metadata": {},
     "output_type": "execute_result"
    }
   ],
   "source": [
    "model_premp = LpProblem(name=\"Programacao_por_metas_preemptiva\", sense=LpMinimize)\n",
    "\n",
    "# pesos iniciais\n",
    "vector=[125,60,55]\n",
    "peso=[1,10,10,4]\n",
    "\n",
    "# Variáveis de decisão\n",
    "x = {i: LpVariable(name=f\"x{i}\", lowBound=0) for i in range(1, 4)}\n",
    "dm = {i: LpVariable(name=f\"dm{i}\", lowBound=0) for i in range(2, 3)}\n",
    "dM = {i: LpVariable(name=f\"dM{i}\", lowBound=0) for i in range(2, 4)}\n",
    "#\n",
    "# Restrições\n",
    "model_premp += (x[1] <= 6, \"toneladas_d1\")\n",
    "model_premp += (x[2] >= 2, \"toneladas_d2\")\n",
    "model_premp += (x[3] >= 1, \"toneladas_d3\")\n",
    "# model_premp += (12 * x[1] + 9 * x[2] + 5 * x[3] >= 125, \"alcancar_lucro\")\n",
    "model_premp += (5 * x[1] + 2 * x[2] + 4 * x[3] + dm[2] - dM[2] == 60, \"mao_obra\")\n",
    "model_premp += (5 * x[1] + 5 * x[2] + 8 * x[3] - dM[3] <= 55, \"travar_investimento\")\n",
    "#\n",
    "# Função objetivo\n",
    "obj_func = peso[1]/vector[1] * dm[2] + peso[2]/vector[1] * dM[2] + peso[3]/vector[2] * dM[3]\n",
    "model_premp += obj_func\n",
    "#\n",
    "model_premp"
   ]
  },
  {
   "cell_type": "code",
   "execution_count": 15,
   "id": "5e62d793",
   "metadata": {
    "ExecuteTime": {
     "end_time": "2023-05-08T19:57:11.680302Z",
     "start_time": "2023-05-08T19:57:11.590564Z"
    }
   },
   "outputs": [
    {
     "name": "stdout",
     "output_type": "stream",
     "text": [
      "objective: 2.690909090909091\n",
      "x1: 6.0\n",
      "x2: 2.0\n",
      "x3: 6.5\n",
      "dm2: 0.0\n",
      "dM2: 0.0\n",
      "dM3: 37.0\n",
      "toneladas_d1: 0.0\n",
      "toneladas_d2: 0.0\n",
      "toneladas_d3: 5.5\n",
      "mao_obra: 0.0\n",
      "travar_investimento: 0.0\n"
     ]
    }
   ],
   "source": [
    "status = model_premp.solve(solver=GLPK(msg=True))\n",
    "#\n",
    "# Valor óptimo de problema\n",
    "model_premp.objective.value()\n",
    "print(f\"objective: {model_premp.objective.value()}\")\n",
    "#\n",
    "# Solução óptima\n",
    "# Valores óptimos das variáveis de decisão e desvios\n",
    "#\n",
    "for var in x.values():\n",
    "    print(f\"{var.name}: {var.value()}\")\n",
    "for var in dm.values():\n",
    "    print(f\"{var.name}: {var.value()}\")\n",
    "for var in dM.values():\n",
    "    print(f\"{var.name}: {var.value()}\")\n",
    "#\n",
    "# Valores das restrições\n",
    "#\n",
    "for name, constraint in model_premp.constraints.items():\n",
    "    print (f\"{name}: {constraint.value()}\") "
   ]
  },
  {
   "cell_type": "markdown",
   "id": "5e3a5932",
   "metadata": {},
   "source": [
    "#### Atingir o nível de prioridade 1 (com pesos diferentes)"
   ]
  },
  {
   "cell_type": "code",
   "execution_count": 16,
   "id": "e40b5c92",
   "metadata": {
    "ExecuteTime": {
     "end_time": "2023-05-08T19:57:11.710708Z",
     "start_time": "2023-05-08T19:57:11.683536Z"
    }
   },
   "outputs": [
    {
     "data": {
      "text/plain": [
       "Programacao_por_metas_preemptiva:\n",
       "MINIMIZE\n",
       "0.16666666666666666*dM2 + 0.07272727272727272*dM3 + 0.16666666666666666*dm2 + 0.0\n",
       "SUBJECT TO\n",
       "toneladas_d1: x1 <= 6\n",
       "\n",
       "toneladas_d2: x2 >= 2\n",
       "\n",
       "toneladas_d3: x3 >= 1\n",
       "\n",
       "mao_obra: - dM2 + dm2 + 5 x1 + 2 x2 + 4 x3 = 60\n",
       "\n",
       "travar_investimento: - dM3 + 5 x1 + 5 x2 + 8 x3 <= 92\n",
       "\n",
       "VARIABLES\n",
       "dM2 Continuous\n",
       "dM3 Continuous\n",
       "dm2 Continuous\n",
       "x1 Continuous\n",
       "x2 Continuous\n",
       "x3 Continuous"
      ]
     },
     "execution_count": 16,
     "metadata": {},
     "output_type": "execute_result"
    }
   ],
   "source": [
    "model_premp = LpProblem(name=\"Programacao_por_metas_preemptiva\", sense=LpMinimize)\n",
    "\n",
    "# pesos iniciais\n",
    "vector=[125,60,55]\n",
    "#peso=[5,10/5,4/5,5]\n",
    "peso=[1,10,10,4]\n",
    "\n",
    "# Variáveis de decisão\n",
    "x = {i: LpVariable(name=f\"x{i}\", lowBound=0) for i in range(1, 4)}\n",
    "dm = {i: LpVariable(name=f\"dm{i}\", lowBound=0) for i in range(2, 3)}\n",
    "dM = {i: LpVariable(name=f\"dM{i}\", lowBound=0) for i in range(2, 4)}\n",
    "#\n",
    "# Restrições\n",
    "model_premp += (x[1] <= 6, \"toneladas_d1\")\n",
    "model_premp += (x[2] >= 2, \"toneladas_d2\")\n",
    "model_premp += (x[3] >= 1, \"toneladas_d3\")\n",
    "#\n",
    "# Sem a primeira meta\n",
    "# model_premp += (12 * x[1] + 9 * x[2] + 5 * x[3] >= 125, \"alcancar_lucro\")\n",
    "#\n",
    "model_premp += (5 * x[1] + 2 * x[2] + 4 * x[3] + dm[2] - dM[2] == 60, \"mao_obra\")\n",
    "model_premp += (5 * x[1] + 5 * x[2] + 8 * x[3] - dM[3] <= 55+37, \"travar_investimento\")\n",
    "#\n",
    "# Função objetivo\n",
    "obj_func = peso[1]/vector[1] * dm[2] + peso[2]/vector[1] * dM[2] + peso[3]/vector[2] * dM[3]\n",
    "model_premp += obj_func\n",
    "#\n",
    "model_premp"
   ]
  },
  {
   "cell_type": "code",
   "execution_count": 17,
   "id": "31b69517",
   "metadata": {
    "ExecuteTime": {
     "end_time": "2023-05-08T19:57:11.757291Z",
     "start_time": "2023-05-08T19:57:11.713679Z"
    }
   },
   "outputs": [
    {
     "name": "stdout",
     "output_type": "stream",
     "text": [
      "objective: 0.0\n",
      "x1: 6.0\n",
      "x2: 2.0\n",
      "x3: 6.5\n",
      "dm2: 0.0\n",
      "dM2: 0.0\n",
      "dM3: 0.0\n",
      "toneladas_d1: 0.0\n",
      "toneladas_d2: 0.0\n",
      "toneladas_d3: 5.5\n",
      "mao_obra: 0.0\n",
      "travar_investimento: 0.0\n"
     ]
    }
   ],
   "source": [
    "status = model_premp.solve(solver=GLPK(msg=True))\n",
    "#\n",
    "# Valor óptimo de problema\n",
    "model_premp.objective.value()\n",
    "print(f\"objective: {model_premp.objective.value()}\")\n",
    "#\n",
    "# Solução óptima\n",
    "# Valores óptimos das variáveis de decisão e desvios\n",
    "#\n",
    "for var in x.values():\n",
    "    print(f\"{var.name}: {var.value()}\")\n",
    "for var in dm.values():\n",
    "    print(f\"{var.name}: {var.value()}\")\n",
    "for var in dM.values():\n",
    "    print(f\"{var.name}: {var.value()}\")\n",
    "#\n",
    "# Valores das restrições\n",
    "#\n",
    "for name, constraint in model_premp.constraints.items():\n",
    "    print (f\"{name}: {constraint.value()}\") "
   ]
  },
  {
   "cell_type": "markdown",
   "id": "d26fc357",
   "metadata": {},
   "source": [
    "### 2º nível de prioridade"
   ]
  },
  {
   "cell_type": "code",
   "execution_count": 18,
   "id": "157dffe6",
   "metadata": {
    "ExecuteTime": {
     "end_time": "2023-05-08T19:57:11.788546Z",
     "start_time": "2023-05-08T19:57:11.760292Z"
    }
   },
   "outputs": [
    {
     "data": {
      "text/plain": [
       "Programacao_por_metas_preemptiva:\n",
       "MINIMIZE\n",
       "0.04*dm1 + 0.0\n",
       "SUBJECT TO\n",
       "toneladas_d1: x1 <= 6\n",
       "\n",
       "toneladas_d2: x2 >= 2\n",
       "\n",
       "toneladas_d3: x3 >= 1\n",
       "\n",
       "alcancar_lucro: dm1 + 12 x1 + 9 x2 + 5 x3 >= 125\n",
       "\n",
       "mao_obra: 5 x1 + 2 x2 + 4 x3 = 41\n",
       "\n",
       "travar_investimento: 5 x1 + 5 x2 + 8 x3 <= 55\n",
       "\n",
       "VARIABLES\n",
       "dm1 Continuous\n",
       "x1 Continuous\n",
       "x2 Continuous\n",
       "x3 Continuous"
      ]
     },
     "execution_count": 18,
     "metadata": {},
     "output_type": "execute_result"
    }
   ],
   "source": [
    "model_premp = LpProblem(name=\"Programacao_por_metas_preemptiva\", sense=LpMinimize)\n",
    "\n",
    "# pesos iniciais\n",
    "vector=[125,60,55]\n",
    "peso=[5,10/5,4/5,5]\n",
    "#peso=[1,1,1,1]\n",
    "# Variáveis de decisão\n",
    "x = {i: LpVariable(name=f\"x{i}\", lowBound=0) for i in range(1, 4)}\n",
    "dm = {i: LpVariable(name=f\"dm{i}\", lowBound=0) for i in range(1, 3)}\n",
    "dM = {i: LpVariable(name=f\"dM{i}\", lowBound=0) for i in range(2, 4)}\n",
    "#\n",
    "\n",
    "# Restrições\n",
    "model_premp += (x[1] <= 6, \"toneladas_d1\")\n",
    "model_premp += (x[2] >= 2, \"toneladas_d2\")\n",
    "model_premp += (x[3] >= 1, \"toneladas_d3\")\n",
    "model_premp += (12 * x[1] + 9 * x[2] + 5 * x[3] + dm[1]>= 125, \"alcancar_lucro\")\n",
    "model_premp += (5 * x[1] + 2 * x[2] + 4 * x[3] == 41 , \"mao_obra\") # 60-18.5= 41 ou 42\n",
    "model_premp += (5 * x[1] + 5 * x[2] + 8 * x[3] <= 55, \"travar_investimento\")\n",
    "#\n",
    "# Função objetivo\n",
    "obj_func = peso[0]/vector[0] * dm[1]\n",
    "model_premp += obj_func\n",
    "#\n",
    "model_premp"
   ]
  },
  {
   "cell_type": "code",
   "execution_count": 19,
   "id": "b2124d71",
   "metadata": {
    "ExecuteTime": {
     "end_time": "2023-05-08T19:57:11.835609Z",
     "start_time": "2023-05-08T19:57:11.792016Z"
    }
   },
   "outputs": [
    {
     "name": "stdout",
     "output_type": "stream",
     "text": [
      "objective: 0.79\n",
      "x1: 6.0\n",
      "x2: 3.0\n",
      "x3: 1.25\n",
      "dm1:19.75\n",
      "toneladas_d1: 0.0\n",
      "toneladas_d2: 1.0\n",
      "toneladas_d3: 0.25\n",
      "alcancar_lucro: 0.0\n",
      "mao_obra: 0.0\n",
      "travar_investimento: 0.0\n"
     ]
    }
   ],
   "source": [
    "status = model_premp.solve(solver=GLPK(msg=True))\n",
    "#\n",
    "# Valor óptimo de problema\n",
    "model_premp.objective.value()\n",
    "print(f\"objective: {model_premp.objective.value()}\")\n",
    "#\n",
    "# Solução óptima\n",
    "# Valores óptimos das variáveis de decisão e desvios\n",
    "#\n",
    "for var in x.values():\n",
    "    print(f\"{var.name}: {var.value()}\")\n",
    "#for var in dm.values():\n",
    "    #print(f\"{var.name}: {var.value()}\")\n",
    "print(f\"{dm[1].name}:{dm[1].value()}\")\n",
    "#for var in dM.values():\n",
    "    #print(f\"{var.name}: {var.value()}\")\n",
    "#\n",
    "# Valores das restrições\n",
    "#\n",
    "for name, constraint in model_premp.constraints.items():\n",
    "    print (f\"{name}: {constraint.value()}\") "
   ]
  },
  {
   "cell_type": "markdown",
   "id": "0198ce1c",
   "metadata": {},
   "source": [
    "#### Atingir o nível de prioridade 2"
   ]
  },
  {
   "cell_type": "markdown",
   "id": "d3f87225",
   "metadata": {},
   "source": [
    "Faremos o mesmo procedimento que no 1º nível de prioridade, mas agora para a meta do lucro que tem desvio $d_1^-=19.75$. Por isso, o lucro está abaixo de 125 mil euros em 19.75 mil euros, ou seja, 125-19.75=105,25 euros.  "
   ]
  },
  {
   "cell_type": "code",
   "execution_count": 20,
   "id": "d7d12248",
   "metadata": {
    "ExecuteTime": {
     "end_time": "2023-05-08T19:57:11.866755Z",
     "start_time": "2023-05-08T19:57:11.837658Z"
    }
   },
   "outputs": [
    {
     "data": {
      "text/plain": [
       "Programacao_por_metas_preemptiva:\n",
       "MINIMIZE\n",
       "0.013333333333333334*dM2 + 0.09090909090909091*dM3 + 0.03333333333333333*dm2 + 0.0\n",
       "SUBJECT TO\n",
       "toneladas_d1: x1 <= 6\n",
       "\n",
       "toneladas_d2: x2 >= 2\n",
       "\n",
       "toneladas_d3: x3 >= 1\n",
       "\n",
       "alcancar_lucro: dm1 + 12 x1 + 9 x2 + 5 x3 >= 105.25\n",
       "\n",
       "mao_obra: - dM2 + dm2 + 5 x1 + 2 x2 + 4 x3 = 41\n",
       "\n",
       "travar_investimento: - dM3 + 5 x1 + 5 x2 + 8 x3 <= 55\n",
       "\n",
       "VARIABLES\n",
       "dM2 Continuous\n",
       "dM3 Continuous\n",
       "dm1 Continuous\n",
       "dm2 Continuous\n",
       "x1 Continuous\n",
       "x2 Continuous\n",
       "x3 Continuous"
      ]
     },
     "execution_count": 20,
     "metadata": {},
     "output_type": "execute_result"
    }
   ],
   "source": [
    "model_premp = LpProblem(name=\"Programacao_por_metas_preemptiva\", sense=LpMinimize)\n",
    "\n",
    "# pesos iniciais\n",
    "vector=[125,60,55]\n",
    "peso=[5,10/5,4/5,5]\n",
    "#peso=[1,1,1,1]\n",
    "# Variáveis de decisão\n",
    "x = {i: LpVariable(name=f\"x{i}\", lowBound=0) for i in range(1, 4)}\n",
    "dm = {i: LpVariable(name=f\"dm{i}\", lowBound=0) for i in range(1, 3)}\n",
    "dM = {i: LpVariable(name=f\"dM{i}\", lowBound=0) for i in range(2, 4)}\n",
    "#\n",
    "# Restrições\n",
    "model_premp += (x[1] <= 6, \"toneladas_d1\")\n",
    "model_premp += (x[2] >= 2, \"toneladas_d2\")\n",
    "model_premp += (x[3] >= 1, \"toneladas_d3\")\n",
    "model_premp += (12 * x[1] + 9 * x[2] + 5 * x[3] + dm[1]>= 105.25, \"alcancar_lucro\")\n",
    "model_premp += (5 * x[1] + 2 * x[2] + 4 * x[3] + dm[2] - dM[2] == 41 , \"mao_obra\") # 60-18.5= 41 ou 42\n",
    "model_premp += (5 * x[1] + 5 * x[2] + 8 * x[3] - dM[3] <= 55, \"travar_investimento\")\n",
    "#\n",
    "# Função objetivo\n",
    "obj_func = peso[1]/vector[1] * dm[2] + peso[2]/vector[1] * dM[2] + peso[3]/vector[2] * dM[3]\n",
    "model_premp += obj_func\n",
    "#\n",
    "model_premp"
   ]
  },
  {
   "cell_type": "code",
   "execution_count": 21,
   "id": "e203d5e5",
   "metadata": {
    "ExecuteTime": {
     "end_time": "2023-05-08T19:57:11.914845Z",
     "start_time": "2023-05-08T19:57:11.869765Z"
    }
   },
   "outputs": [
    {
     "name": "stdout",
     "output_type": "stream",
     "text": [
      "objective: 0.0\n",
      "x1: 6.0\n",
      "x2: 3.0\n",
      "x3: 1.25\n",
      "dm1: 0.0\n",
      "dm2: 0.0\n",
      "dM2: 0.0\n",
      "dM3: 0.0\n",
      "toneladas_d1: 0.0\n",
      "toneladas_d2: 1.0\n",
      "toneladas_d3: 0.25\n",
      "alcancar_lucro: 0.0\n",
      "mao_obra: 0.0\n",
      "travar_investimento: 0.0\n"
     ]
    }
   ],
   "source": [
    "status = model_premp.solve(solver=GLPK(msg=True))\n",
    "#\n",
    "# Valor óptimo de problema\n",
    "model_premp.objective.value()\n",
    "print(f\"objective: {model_premp.objective.value()}\")\n",
    "#\n",
    "# Solução óptima\n",
    "# Valores óptimos das variáveis de decisão e desvios\n",
    "#\n",
    "for var in x.values():\n",
    "    print(f\"{var.name}: {var.value()}\")\n",
    "for var in dm.values():\n",
    "    print(f\"{var.name}: {var.value()}\")\n",
    "for var in dM.values():\n",
    "    print(f\"{var.name}: {var.value()}\")\n",
    "#\n",
    "# Valores das restrições\n",
    "#\n",
    "for name, constraint in model_premp.constraints.items():\n",
    "    print (f\"{name}: {constraint.value()}\") "
   ]
  }
 ],
 "metadata": {
  "kernelspec": {
   "display_name": "Python 3 (ipykernel)",
   "language": "python",
   "name": "python3"
  },
  "language_info": {
   "codemirror_mode": {
    "name": "ipython",
    "version": 3
   },
   "file_extension": ".py",
   "mimetype": "text/x-python",
   "name": "python",
   "nbconvert_exporter": "python",
   "pygments_lexer": "ipython3",
   "version": "3.9.13"
  },
  "latex_envs": {
   "LaTeX_envs_menu_present": true,
   "autoclose": true,
   "autocomplete": true,
   "bibliofile": "biblio.bib",
   "cite_by": "apalike",
   "current_citInitial": 1,
   "eqLabelWithNumbers": true,
   "eqNumInitial": 1,
   "hotkeys": {
    "equation": "Ctrl-E",
    "itemize": "Ctrl-I"
   },
   "labels_anchors": false,
   "latex_user_defs": false,
   "report_style_numbering": false,
   "user_envs_cfg": false
  },
  "varInspector": {
   "cols": {
    "lenName": 16,
    "lenType": 16,
    "lenVar": 40
   },
   "kernels_config": {
    "python": {
     "delete_cmd_postfix": "",
     "delete_cmd_prefix": "del ",
     "library": "var_list.py",
     "varRefreshCmd": "print(var_dic_list())"
    },
    "r": {
     "delete_cmd_postfix": ") ",
     "delete_cmd_prefix": "rm(",
     "library": "var_list.r",
     "varRefreshCmd": "cat(var_dic_list()) "
    }
   },
   "types_to_exclude": [
    "module",
    "function",
    "builtin_function_or_method",
    "instance",
    "_Feature"
   ],
   "window_display": false
  }
 },
 "nbformat": 4,
 "nbformat_minor": 5
}
